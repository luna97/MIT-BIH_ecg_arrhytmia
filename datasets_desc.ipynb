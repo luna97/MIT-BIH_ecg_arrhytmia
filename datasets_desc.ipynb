{
 "cells": [
  {
   "cell_type": "markdown",
   "metadata": {},
   "source": [
    "## MIT-BIH arrhythmia\n",
    "\n",
    "2 leads, always the lead II \n",
    "\n",
    "All train labels: Counter({'N': 45866, 'V': 11364, 'S': 6608, 'F': 3735, 'Q': 104})\n",
    "\n",
    "All test labels: Counter({'N': 44259, 'V': 3221, 'S': 1837, 'F': 388, 'Q': 7})\n",
    "\n",
    "Divided in train and test by DS1 and DS2 subset like in most papers\n",
    "\n",
    "These are the patologies:\n",
    "- N -> Normal beat\n",
    "- V -> ventricular ectopy\n",
    "- S -> Supraventricular ectopic\n",
    "- F -> Fusion beat\n",
    "- Q -> Unknown"
   ]
  },
  {
   "cell_type": "markdown",
   "metadata": {},
   "source": [
    "## CODE 15\n",
    "\n",
    "These are the patologies:\n",
    "- \"1dAVb\": 1st degree AV block;\n",
    "- \"RBBB\": right bundle branch block;\n",
    "- \"LBBB\": left bundle branch block;\n",
    "- \"SB\": sinus bradycardia;\n",
    "- \"AF\": atrial fibrillation;\n",
    "- \"ST\": sinus tachycardia;"
   ]
  },
  {
   "cell_type": "markdown",
   "metadata": {},
   "source": [
    "## MIMIC-IV"
   ]
  },
  {
   "cell_type": "markdown",
   "metadata": {},
   "source": [
    "## PTB-XL\n",
    "\n",
    "https://physionet.org/content/ptb-xl/1.0.3/\n",
    "\n",
    "- Num samples: 21799\n",
    "- Num patients: 18869\n",
    "- Len sample: 10s\n",
    "- Freq: 500Hz\n",
    "\n",
    "\n",
    "|Records |\tSuperclass\t|Description\n",
    "|-------| ---| ---\n",
    "|9514\t|NORM\t|Normal ECG\n",
    "|5469\t|MI\t|Myocardial Infarction\n",
    "|5235\t|STTC\t|ST/T Change\n",
    "|4898\t|CD\t|Conduction Disturbance\n",
    "|2649\t|HYP\t|Hypertrophy\n",
    "\n",
    "\n",
    "Contains textual reports\n"
   ]
  },
  {
   "cell_type": "markdown",
   "metadata": {},
   "source": [
    "\n"
   ]
  }
 ],
 "metadata": {
  "kernelspec": {
   "display_name": "mit_bih_env",
   "language": "python",
   "name": "python3"
  },
  "language_info": {
   "codemirror_mode": {
    "name": "ipython",
    "version": 3
   },
   "file_extension": ".py",
   "mimetype": "text/x-python",
   "name": "python",
   "nbconvert_exporter": "python",
   "pygments_lexer": "ipython3",
   "version": "3.11.11"
  }
 },
 "nbformat": 4,
 "nbformat_minor": 2
}
