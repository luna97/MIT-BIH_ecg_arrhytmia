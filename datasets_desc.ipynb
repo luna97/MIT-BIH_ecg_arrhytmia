{
 "cells": [
  {
   "cell_type": "markdown",
   "metadata": {},
   "source": [
    "## MIT-BIH arrhythmia\n",
    "\n",
    "All train labels: Counter({'N': 45866, 'V': 11364, 'S': 6608, 'F': 3735, 'Q': 104})\n",
    "All test labels: Counter({'N': 44259, 'V': 3221, 'S': 1837, 'F': 388, 'Q': 7})\n",
    "\n",
    "Divided in train and test by DS1 and DS2 subset like in most papers\n",
    "\n",
    "N -> Normal beat\n",
    "V -> ventricular ectopy\n",
    "S -> Supraventricular ectopic\n",
    "F -> Fusion beat\n",
    "Q -> Unknown"
   ]
  },
  {
   "cell_type": "markdown",
   "metadata": {},
   "source": [
    "## CODE 15\n",
    "\n",
    "\"1dAVb\": 1st degree AV block;\n",
    "\"RBBB\": right bundle branch block;\n",
    "\"LBBB\": left bundle branch block;\n",
    "\"SB\": sinus bradycardia;\n",
    "\"AF\": atrial fibrillation;\n",
    "\"ST\": sinus tachycardia;"
   ]
  }
 ],
 "metadata": {
  "kernelspec": {
   "display_name": "mit_bih_env",
   "language": "python",
   "name": "python3"
  },
  "language_info": {
   "codemirror_mode": {
    "name": "ipython",
    "version": 3
   },
   "file_extension": ".py",
   "mimetype": "text/x-python",
   "name": "python",
   "nbconvert_exporter": "python",
   "pygments_lexer": "ipython3",
   "version": "3.11.11"
  }
 },
 "nbformat": 4,
 "nbformat_minor": 2
}
